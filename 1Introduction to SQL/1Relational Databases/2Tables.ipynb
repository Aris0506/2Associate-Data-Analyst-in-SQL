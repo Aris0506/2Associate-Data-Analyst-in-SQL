{
 "cells": [
  {
   "cell_type": "code",
   "execution_count": null,
   "id": "d9cdcf20",
   "metadata": {
    "vscode": {
     "languageId": "sql"
    }
   },
   "outputs": [],
   "source": [
    "# Our very own table\n",
    "SELECT *\n",
    "FROM books;"
   ]
  }
 ],
 "metadata": {
  "language_info": {
   "name": "python"
  }
 },
 "nbformat": 4,
 "nbformat_minor": 5
}
